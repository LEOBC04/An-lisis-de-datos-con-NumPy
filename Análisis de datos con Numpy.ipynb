{
 "cells": [
  {
   "cell_type": "markdown",
   "metadata": {},
   "source": [
    "# Análisis de datos con Numpy"
   ]
  },
  {
   "cell_type": "markdown",
   "metadata": {},
   "source": [
    "Importamos la libería"
   ]
  },
  {
   "cell_type": "code",
   "execution_count": 22,
   "metadata": {},
   "outputs": [],
   "source": [
    "import numpy as np"
   ]
  },
  {
   "cell_type": "markdown",
   "metadata": {},
   "source": [
    "## Variables"
   ]
  },
  {
   "cell_type": "code",
   "execution_count": 23,
   "metadata": {},
   "outputs": [],
   "source": [
    "productos = 10\n",
    "tiendas = 5\n",
    "dias = 7"
   ]
  },
  {
   "cell_type": "markdown",
   "metadata": {},
   "source": [
    "## Funciones"
   ]
  },
  {
   "cell_type": "code",
   "execution_count": 24,
   "metadata": {},
   "outputs": [],
   "source": [
    "def generar_datos_ventas(productos, tiendas, dias):\n",
    "    # Genera datos de ventas aleatorias para el número de productos, tiendas y días especificados\n",
    "    return np.random.randint(0, 101, (productos, tiendas, dias))"
   ]
  },
  {
   "cell_type": "code",
   "execution_count": 25,
   "metadata": {},
   "outputs": [],
   "source": [
    "def calcular_totales_ventas_por_producto(datos):\n",
    "    # Calcula el total de ventas por producto a lo largo de la semana\n",
    "    return np.sum(datos, axis=(1, 2))"
   ]
  },
  {
   "cell_type": "code",
   "execution_count": 26,
   "metadata": {},
   "outputs": [],
   "source": [
    "def calcular_totales_ventas_por_tienda(datos):\n",
    "    # Calcula el total de ventas por tienda a lo largo de la semana\n",
    "    return np.sum(datos, axis=(0, 2))"
   ]
  },
  {
   "cell_type": "code",
   "execution_count": 27,
   "metadata": {},
   "outputs": [],
   "source": [
    "def calcular_promedio_ventas_por_producto(datos):\n",
    "    # Calcula el promedio de ventas por producto por día\n",
    "    return np.mean(datos, axis=(1, 2))"
   ]
  },
  {
   "cell_type": "code",
   "execution_count": 28,
   "metadata": {},
   "outputs": [],
   "source": [
    "def calcular_promedio_ventas_por_tienda(datos):\n",
    "    # Calcula el promedio de ventas por tienda por día\n",
    "    return np.mean(datos, axis=(0, 2))"
   ]
  },
  {
   "cell_type": "code",
   "execution_count": 41,
   "metadata": {},
   "outputs": [],
   "source": [
    "def encontrar_producto_mayor_menor_ventas(totales_por_producto):\n",
    "    # Encuentra el producto con mayor y menor ventas totales en la semana\n",
    "    producto_mayor_ventas = np.argmax(totales_por_producto)\n",
    "    producto_menor_ventas = np.argmin(totales_por_producto)\n",
    "    return producto_mayor_ventas, producto_menor_ventas"
   ]
  },
  {
   "cell_type": "code",
   "execution_count": 40,
   "metadata": {},
   "outputs": [],
   "source": [
    "def encontrar_tienda_mayor_menor_ventas(totales_por_tienda):\n",
    "    # Encuentra la tienda con mayor y menor ventas totales en la semana\n",
    "    tienda_mayor_ventas = np.argmax(totales_por_tienda)\n",
    "    tienda_menor_ventas = np.argmin(totales_por_tienda)\n",
    "    return tienda_mayor_ventas, tienda_menor_ventas\n"
   ]
  },
  {
   "cell_type": "markdown",
   "metadata": {},
   "source": [
    "## Generar los datos de ventas"
   ]
  },
  {
   "cell_type": "code",
   "execution_count": 29,
   "metadata": {},
   "outputs": [
    {
     "data": {
      "text/plain": [
       "array([[[ 20,  40,  87,  16,  24,  99,  85],\n",
       "        [ 38,  88,  69,  42,  20,  42,  37],\n",
       "        [ 34,  77,  93,  92,  70,  18,   1],\n",
       "        [ 54,  53,  28,   3,  22,  10,   2],\n",
       "        [ 96,  84,  43,  82,  45,  56,  63]],\n",
       "\n",
       "       [[ 94,  19,  48,  90,  57,   9,  24],\n",
       "        [ 29,  39,  82,  73,  95,  89,  40],\n",
       "        [ 97,  32,   6,  15,  86,  60,  23],\n",
       "        [ 63,  88,  27,  35,  77,  89,  83],\n",
       "        [ 36,  96,  20,  55,   4,  66,  81]],\n",
       "\n",
       "       [[ 95,  88,  93,  90,   4,  57,  27],\n",
       "        [ 20,  85,  30,  53,  20,   0,  19],\n",
       "        [ 57,  91,  57,  37,  21,  71,  14],\n",
       "        [ 56,  46,   0,  99,  16,   9,  31],\n",
       "        [ 58,  87,  65,  68,  82,   4,  19]],\n",
       "\n",
       "       [[ 26,  19,  52,  59,  95,  36,  64],\n",
       "        [  1,  54,  56,   6,  40,  28,  15],\n",
       "        [ 27,  89,   2,  65,  14,  52,  34],\n",
       "        [ 75,  52,  68,  57,  75,  68,  28],\n",
       "        [ 58,  90,  53,  72,  74,  66,  65]],\n",
       "\n",
       "       [[  6,  57,  33,  55,  61,  87,  79],\n",
       "        [ 12,  11,  64,  72,  64,  94,  45],\n",
       "        [ 59,  30,  97,  11,  96,  31,   1],\n",
       "        [ 77,  77,  82,  42,  30,  16,  44],\n",
       "        [  0,  55,  75,  33,  27,  96,   3]],\n",
       "\n",
       "       [[ 40,   5,  91,  87,   8,  51,  16],\n",
       "        [ 20,  40,  19, 100,  19,   2,  35],\n",
       "        [ 45,  54,  62,  34,  75,  70,  30],\n",
       "        [ 56,  56,   1,  11,  86,  99,  61],\n",
       "        [ 14,  16,  20,   5,  17,  59,  91]],\n",
       "\n",
       "       [[  3,   0,  56,   0,  58,   8,  12],\n",
       "        [ 33,  98,   3,  26,  90,  78,  96],\n",
       "        [ 45,  66,  65,  73,  90,  81,  67],\n",
       "        [ 57,  66,  69,  18,  57,   0,   7],\n",
       "        [ 38,  12,  61,  43,  90,   9,   3]],\n",
       "\n",
       "       [[ 14,  24,  29,  93, 100,  35,  89],\n",
       "        [ 56,   6,  79,  17,  31,  76,  53],\n",
       "        [ 25,   6,  98,  96,  25,   5,  15],\n",
       "        [ 12,  11,  50,  54,   7,  65,  53],\n",
       "        [ 10,  30,  94,   7,  77,  75, 100]],\n",
       "\n",
       "       [[ 18,  34,  93,  45,  59,  35,  66],\n",
       "        [ 75,  20,  49,   4,  86,  41,  96],\n",
       "        [ 15,  58,  67,  35,   7,  55,  42],\n",
       "        [ 44,  74,  57,  37,  99,  83,  90],\n",
       "        [  8,  21,  77,  80,  98,  58,  19]],\n",
       "\n",
       "       [[ 68,  21,  99,  20,  88,  82,  58],\n",
       "        [ 11,  84,  82,  34,  24,  66,  55],\n",
       "        [ 62,  15,  12,   2,  45,  79,  48],\n",
       "        [ 43,  59,  56,  54,  90,  81,  56],\n",
       "        [ 72,  39,  66,   7,   8,  50,  88]]])"
      ]
     },
     "execution_count": 29,
     "metadata": {},
     "output_type": "execute_result"
    }
   ],
   "source": [
    "datos = generar_datos_ventas(productos, tiendas, dias)\n",
    "datos\n"
   ]
  },
  {
   "cell_type": "markdown",
   "metadata": {},
   "source": [
    "## Cáculo de totales y promedios"
   ]
  },
  {
   "cell_type": "code",
   "execution_count": 30,
   "metadata": {},
   "outputs": [
    {
     "data": {
      "text/plain": [
       "array([1733, 1927, 1669, 1735, 1722, 1495, 1578, 1617, 1845, 1824])"
      ]
     },
     "execution_count": 30,
     "metadata": {},
     "output_type": "execute_result"
    }
   ],
   "source": [
    "totales_por_producto = calcular_totales_ventas_por_producto(datos)\n",
    "totales_por_producto"
   ]
  },
  {
   "cell_type": "code",
   "execution_count": 31,
   "metadata": {},
   "outputs": [
    {
     "data": {
      "text/plain": [
       "array([3500, 3276, 3329, 3501, 3539])"
      ]
     },
     "execution_count": 31,
     "metadata": {},
     "output_type": "execute_result"
    }
   ],
   "source": [
    "totales_por_tienda = calcular_totales_ventas_por_tienda(datos)\n",
    "totales_por_tienda"
   ]
  },
  {
   "cell_type": "code",
   "execution_count": 32,
   "metadata": {},
   "outputs": [
    {
     "data": {
      "text/plain": [
       "array([49.51428571, 55.05714286, 47.68571429, 49.57142857, 49.2       ,\n",
       "       42.71428571, 45.08571429, 46.2       , 52.71428571, 52.11428571])"
      ]
     },
     "execution_count": 32,
     "metadata": {},
     "output_type": "execute_result"
    }
   ],
   "source": [
    "promedio_por_producto = calcular_promedio_ventas_por_producto(datos)\n",
    "promedio_por_producto"
   ]
  },
  {
   "cell_type": "code",
   "execution_count": 33,
   "metadata": {},
   "outputs": [
    {
     "data": {
      "text/plain": [
       "array([50.        , 46.8       , 47.55714286, 50.01428571, 50.55714286])"
      ]
     },
     "execution_count": 33,
     "metadata": {},
     "output_type": "execute_result"
    }
   ],
   "source": [
    "promedio_por_tienda = calcular_promedio_ventas_por_tienda(datos)\n",
    "promedio_por_tienda"
   ]
  },
  {
   "cell_type": "markdown",
   "metadata": {},
   "source": [
    "## Tiendas y productos con mayor y menor número de ventas"
   ]
  },
  {
   "cell_type": "code",
   "execution_count": 45,
   "metadata": {},
   "outputs": [
    {
     "name": "stdout",
     "output_type": "stream",
     "text": [
      "5\n"
     ]
    }
   ],
   "source": [
    "producto_mayor_ventas, producto_menor_ventas = encontrar_producto_mayor_menor_ventas(totales_por_producto)\n",
    "tienda_mayor_ventas, tienda_menor_ventas = encontrar_tienda_mayor_menor_ventas(totales_por_tienda)\n"
   ]
  },
  {
   "cell_type": "markdown",
   "metadata": {},
   "source": [
    "## Resultados"
   ]
  },
  {
   "cell_type": "code",
   "execution_count": 46,
   "metadata": {},
   "outputs": [
    {
     "name": "stdout",
     "output_type": "stream",
     "text": [
      "Total de ventas por producto a lo largo de la semana: [1733 1927 1669 1735 1722 1495 1578 1617 1845 1824]\n",
      "Total de ventas por tienda a lo largo de la semana: [3500 3276 3329 3501 3539]\n",
      "Promedio de ventas por producto por día: [49.51428571 55.05714286 47.68571429 49.57142857 49.2        42.71428571\n",
      " 45.08571429 46.2        52.71428571 52.11428571]\n",
      "Promedio de ventas por tienda por día: [50.         46.8        47.55714286 50.01428571 50.55714286]\n",
      "Producto con mayor ventas: Producto 1\n",
      "Producto con menor ventas: Producto 5\n",
      "Tienda con mayor ventas: Tienda 4\n",
      "Tienda con menor ventas: Tienda 1\n"
     ]
    }
   ],
   "source": [
    "print(\"Total de ventas por producto a lo largo de la semana:\", totales_por_producto)\n",
    "print(\"Total de ventas por tienda a lo largo de la semana:\", totales_por_tienda)\n",
    "print(\"Promedio de ventas por producto por día:\", promedio_por_producto)\n",
    "print(\"Promedio de ventas por tienda por día:\", promedio_por_tienda)\n",
    "print(f\"Producto con mayor ventas: Producto {producto_mayor_ventas}\")\n",
    "print(f\"Producto con menor ventas: Producto {producto_menor_ventas}\")\n",
    "print(f\"Tienda con mayor ventas: Tienda {tienda_mayor_ventas}\")\n",
    "print(f\"Tienda con menor ventas: Tienda {tienda_menor_ventas}\")"
   ]
  }
 ],
 "metadata": {
  "kernelspec": {
   "display_name": "base",
   "language": "python",
   "name": "python3"
  },
  "language_info": {
   "codemirror_mode": {
    "name": "ipython",
    "version": 3
   },
   "file_extension": ".py",
   "mimetype": "text/x-python",
   "name": "python",
   "nbconvert_exporter": "python",
   "pygments_lexer": "ipython3",
   "version": "3.12.4"
  }
 },
 "nbformat": 4,
 "nbformat_minor": 2
}
